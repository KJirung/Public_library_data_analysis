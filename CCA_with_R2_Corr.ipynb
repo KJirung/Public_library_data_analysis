{
 "cells": [
  {
   "cell_type": "code",
   "execution_count": 1,
   "metadata": {},
   "outputs": [],
   "source": [
    "import numpy as np\n",
    "import pandas as pd\n",
    "from sklearn.cross_decomposition import CCA\n",
    "import matplotlib.pyplot as plt\n",
    "\n",
    "# 소수를 e로 표현하지 않도록 하기\n",
    "pd.options.display.float_format = \"{:.5f}\".format"
   ]
  },
  {
   "cell_type": "code",
   "execution_count": 2,
   "metadata": {},
   "outputs": [],
   "source": [
    "lib_2007 = pd.read_csv(\"final_data/lib_2007.csv\", index_col=0)\n",
    "lib_2008 = pd.read_csv(\"final_data/lib_2008.csv\", index_col=0)\n",
    "lib_2009 = pd.read_csv(\"final_data/lib_2009.csv\", index_col=0)\n",
    "lib_2010 = pd.read_csv(\"final_data/lib_2010.csv\", index_col=0)\n",
    "lib_2011 = pd.read_csv(\"final_data/lib_2011.csv\", index_col=0)\n",
    "lib_2012 = pd.read_csv(\"final_data/lib_2012.csv\", index_col=0)\n",
    "lib_2013 = pd.read_csv(\"final_data/lib_2013.csv\", index_col=0)\n",
    "lib_2014 = pd.read_csv(\"final_data/lib_2014.csv\", index_col=0)\n",
    "lib_2015 = pd.read_csv(\"final_data/lib_2015.csv\", index_col=0)\n",
    "lib_2016 = pd.read_csv(\"final_data/lib_2016.csv\", index_col=0)\n",
    "lib_2017 = pd.read_csv(\"final_data/lib_2017.csv\", index_col=0)\n",
    "lib_2018 = pd.read_csv(\"final_data/lib_2018.csv\", index_col=0)\n",
    "lib_2019 = pd.read_csv(\"final_data/lib_2019.csv\", index_col=0)\n",
    "lib_2020 = pd.read_csv(\"final_data/lib_2020.csv\", index_col=0)\n",
    "lib_2021 = pd.read_csv(\"final_data/lib_2021.csv\", index_col=0)"
   ]
  },
  {
   "cell_type": "code",
   "execution_count": 3,
   "metadata": {},
   "outputs": [],
   "source": [
    "train_lib = pd.concat([lib_2007,lib_2008,lib_2009,lib_2010,lib_2011,lib_2012,lib_2013,lib_2014,lib_2015,lib_2016,lib_2017])\n",
    "valid_lib = pd.concat([lib_2018, lib_2019])\n",
    "test_lib = pd.concat([lib_2020,lib_2021])"
   ]
  },
  {
   "cell_type": "code",
   "execution_count": 4,
   "metadata": {},
   "outputs": [
    {
     "name": "stdout",
     "output_type": "stream",
     "text": [
      "이상치 제거 전 train set의 데이터 수 : 9026\n",
      "이상치 제거 전 valid set의 데이터 수 : 2222\n",
      "이상치 제거 전 test set의 데이터 수 : 2370\n"
     ]
    }
   ],
   "source": [
    "# 이상치 제거 전 train, test set의 데이터 수 구하기\n",
    "print(f\"이상치 제거 전 train set의 데이터 수 : {len(train_lib)}\")\n",
    "print(f\"이상치 제거 전 valid set의 데이터 수 : {len(valid_lib)}\")\n",
    "print(f\"이상치 제거 전 test set의 데이터 수 : {len(test_lib)}\")"
   ]
  },
  {
   "cell_type": "code",
   "execution_count": 5,
   "metadata": {},
   "outputs": [
    {
     "name": "stdout",
     "output_type": "stream",
     "text": [
      "이상치 제거 후 train set의 데이터 수 : 8184\n",
      "이상치 제거 후 valid set의 데이터 수 : 2178\n",
      "이상치 제거 후 test set의 데이터 수 : 2310\n"
     ]
    }
   ],
   "source": [
    "# 사분위수를 활용하여 비율 충족도의 이상치 행 제거하기\n",
    "def del_outlier(df, col):\n",
    "    q1 = df[col].quantile(0.10)\n",
    "    q3 = df[col].quantile(0.90)\n",
    "    iqr = q3 - q1 \n",
    "    boundary = 1.5 * iqr \n",
    "\n",
    "    upper_index = df[df[col] > q3 + boundary].index\n",
    "    lower_index = df[df[col] < q1 - boundary].index \n",
    "\n",
    "    df.drop(upper_index, inplace = True)\n",
    "    df.drop(lower_index, inplace = True)\n",
    "\n",
    "    return df\n",
    "\n",
    "del_outlier(train_lib, \"future_acq_budget_settlement\")\n",
    "del_outlier(valid_lib, \"future_acq_budget_settlement\")\n",
    "del_outlier(test_lib, \"future_acq_budget_settlement\") \n",
    "\n",
    "# 이상치 제거 후 train, test set의 데이터 수 구하기\n",
    "print(f\"이상치 제거 후 train set의 데이터 수 : {len(train_lib)}\")\n",
    "print(f\"이상치 제거 후 valid set의 데이터 수 : {len(valid_lib)}\")\n",
    "print(f\"이상치 제거 후 test set의 데이터 수 : {len(test_lib)}\")"
   ]
  },
  {
   "cell_type": "code",
   "execution_count": 6,
   "metadata": {},
   "outputs": [],
   "source": [
    "from sklearn.preprocessing import MinMaxScaler\n",
    "\n",
    "# Min-Max Scaler 생성\n",
    "scaler = MinMaxScaler()\n",
    "\n",
    "# 모든 변수에 대해 Min-Max Scaling 적용\n",
    "# 스케일러를 학습 데이터에 대해 fit\n",
    "scaler.fit(train_lib.drop(columns=[\"future_acq_budget_settlement\"]))\n",
    "\n",
    "# 학습 데이터에 대해 변환\n",
    "train_lib_scaled = pd.DataFrame(scaler.transform(train_lib.drop(columns=[\"future_acq_budget_settlement\"])), \n",
    "                                columns=train_lib.columns[:-1])\n",
    "\n",
    "# 타겟 변수에 대해 스케일링 적용\n",
    "scaler_y = MinMaxScaler()\n",
    "train_y_scaled = scaler_y.fit_transform(train_lib[['future_acq_budget_settlement']])\n",
    "\n",
    "# 학습 데이터에 스케일된 타겟 변수 추가\n",
    "train_lib_scaled['future_acq_budget_settlement_scaled'] = train_y_scaled\n",
    "\n",
    "# 검증 데이터에 대해 변환\n",
    "valid_lib_scaled = pd.DataFrame(scaler.transform(valid_lib.drop(columns=[\"future_acq_budget_settlement\"])), \n",
    "                                columns=train_lib.columns[:-1])\n",
    "valid_y_scaled = scaler_y.transform(valid_lib[['future_acq_budget_settlement']])\n",
    "valid_lib_scaled['future_acq_budget_settlement_scaled'] = valid_y_scaled\n",
    "\n",
    "# 테스트 데이터에 대해 변환\n",
    "test_lib_scaled = pd.DataFrame(scaler.transform(test_lib.drop(columns=[\"future_acq_budget_settlement\"])), \n",
    "                               columns=train_lib.columns[:-1])\n",
    "test_y_scaled = scaler_y.transform(test_lib[['future_acq_budget_settlement']])\n",
    "test_lib_scaled['future_acq_budget_settlement_scaled'] = test_y_scaled\n",
    "\n",
    "# X_train, Y_train 구성하기 (스케일된 타겟 사용)\n",
    "X_train = train_lib_scaled.drop(columns=[\"future_acq_budget_settlement_scaled\"])\n",
    "Y_train = train_lib_scaled[\"future_acq_budget_settlement_scaled\"]\n",
    "\n",
    "# X_valid, Y_valid 구성하기 (스케일된 타겟 사용)\n",
    "X_valid = valid_lib_scaled.drop(columns=[\"future_acq_budget_settlement_scaled\"])\n",
    "Y_valid = valid_lib_scaled[\"future_acq_budget_settlement_scaled\"]\n",
    "\n",
    "# X_test, Y_test 구성하기 (스케일된 타겟 사용)\n",
    "X_test = test_lib_scaled.drop(columns=[\"future_acq_budget_settlement_scaled\"])\n",
    "Y_test = test_lib_scaled[\"future_acq_budget_settlement_scaled\"]\n"
   ]
  },
  {
   "cell_type": "code",
   "execution_count": 7,
   "metadata": {},
   "outputs": [],
   "source": [
    "feature_names = X_train.columns"
   ]
  },
  {
   "cell_type": "code",
   "execution_count": 8,
   "metadata": {},
   "outputs": [
    {
     "name": "stdout",
     "output_type": "stream",
     "text": [
      "                  Feature  Correlation      R^2\n",
      "0               dom_books      0.64004  0.28008\n",
      "1               for_books      0.33375 -0.33249\n",
      "2               local_mat      0.18910 -0.62181\n",
      "3             nonbook_mat      0.46552 -0.06895\n",
      "4                elec_mat      0.06683 -0.86634\n",
      "5                 serials      0.30519 -0.38962\n",
      "6              ann_growth      0.15395 -0.69210\n",
      "7             ann_weeding      0.25069 -0.49863\n",
      "8           lib_site_area      0.11731 -0.76539\n",
      "9          lib_build_area      0.35730 -0.28539\n",
      "10            total_seats      0.60690  0.21380\n",
      "11             user_comps      0.61875  0.23750\n",
      "12      self_srv_machines      0.38036 -0.23928\n",
      "13              full_time      0.64362  0.28724\n",
      "14              part_time      0.47188 -0.05624\n",
      "15          support_staff      0.20651 -0.58699\n",
      "16           total_budget      0.62198  0.24396\n",
      "17             acq_budget      0.74814  0.49627\n",
      "18              open_days      0.02571 -0.94858\n",
      "19         avg_week_hours      0.04845 -0.90310\n",
      "20            reg_members      0.49083 -0.01834\n",
      "21           lib_visitors      0.62048  0.24096\n",
      "22          service_recip      0.05830 -0.88340\n",
      "23              borrowers      0.09827 -0.80345\n",
      "24                  loans      0.57783  0.15565\n",
      "25         interlib_loans      0.09745 -0.80510\n",
      "26     info_serv_requests      0.19228 -0.61544\n",
      "27             web_access      0.19563 -0.60874\n",
      "28       user_ed_sessions      0.12080 -0.75839\n",
      "29         user_ed_partic      0.23053 -0.53894\n",
      "30          prog_sessions      0.19494 -0.61012\n",
      "31            prog_partic      0.33086 -0.33829\n",
      "32              disab_mat      0.27147 -0.45705\n",
      "33      vuln_group_budget      0.06503 -0.86995\n",
      "34       total_settlement      0.47897 -0.04207\n",
      "35  acq_budget_settlement      0.69180  0.38360\n"
     ]
    }
   ],
   "source": [
    "import pandas as pd\n",
    "from sklearn.cross_decomposition import CCA\n",
    "from sklearn.metrics import r2_score\n",
    "\n",
    "# 결과 저장을 위한 리스트\n",
    "correlations = []\n",
    "r2_scores = []\n",
    "\n",
    "# 각 입력 특징에 대해 CCA 적용\n",
    "for i in range(X_train.shape[1]):\n",
    "    # 입력 특징 개별 추출 (DataFrame의 경우 iloc 사용)\n",
    "    X_single = X_train.iloc[:, i].values.reshape(-1, 1)\n",
    "    \n",
    "    # CCA 모델 초기화\n",
    "    cca = CCA(n_components=1)\n",
    "    \n",
    "    # CCA 적용\n",
    "    cca.fit(X_single, Y_train)\n",
    "    X_c, Y_c = cca.transform(X_single, Y_train)\n",
    "    \n",
    "    # 상관 계수\n",
    "    corr = np.corrcoef(X_c.T, Y_c.T)[0, 1]\n",
    "    correlations.append(corr)\n",
    "    \n",
    "    # R^2 값\n",
    "    r2 = r2_score(X_c, Y_c)\n",
    "    r2_scores.append(r2)\n",
    "\n",
    "# 결과를 데이터프레임으로 정리\n",
    "results_df = pd.DataFrame({\n",
    "    'Feature': X_train.columns,  # 특성 이름\n",
    "    'Correlation': correlations,\n",
    "    'R^2': r2_scores\n",
    "})\n",
    "\n",
    "# 결과 출력\n",
    "print(results_df)\n",
    "\n",
    "\n"
   ]
  }
 ],
 "metadata": {
  "kernelspec": {
   "display_name": "jw_tensorflow",
   "language": "python",
   "name": "python3"
  },
  "language_info": {
   "codemirror_mode": {
    "name": "ipython",
    "version": 3
   },
   "file_extension": ".py",
   "mimetype": "text/x-python",
   "name": "python",
   "nbconvert_exporter": "python",
   "pygments_lexer": "ipython3",
   "version": "3.11.9"
  }
 },
 "nbformat": 4,
 "nbformat_minor": 2
}
